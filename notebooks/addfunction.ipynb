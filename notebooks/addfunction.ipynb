def addition(x,y):
	return x+y
a = addition(4,3)
print(a)

print(addition(5,4))
addition(7,8)
addition(9,10)
